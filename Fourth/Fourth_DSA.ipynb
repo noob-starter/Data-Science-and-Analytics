{
  "nbformat": 4,
  "nbformat_minor": 0,
  "metadata": {
    "colab": {
      "provenance": []
    },
    "kernelspec": {
      "name": "python3",
      "display_name": "Python 3"
    },
    "language_info": {
      "name": "python"
    }
  },
  "cells": [
    {
      "cell_type": "markdown",
      "source": [
        "# Install the Necessary Libraries\n",
        "\n",
        "Name : Pratik Yuvraj Yawalkar\n",
        "\n",
        "Roll No.  : AI23MTECH11006\n",
        "\n",
        "Department : AI & ML"
      ],
      "metadata": {
        "id": "_YYS83A2ITiK"
      }
    },
    {
      "cell_type": "code",
      "execution_count": 1,
      "metadata": {
        "colab": {
          "base_uri": "https://localhost:8080/"
        },
        "id": "0vSH2ZS1H8X2",
        "outputId": "e2959ae0-735a-4b82-8599-a5af5312b6db"
      },
      "outputs": [
        {
          "output_type": "stream",
          "name": "stdout",
          "text": [
            "Requirement already satisfied: astroML in /usr/local/lib/python3.10/dist-packages (1.0.2.post1)\n",
            "Requirement already satisfied: numpy in /usr/local/lib/python3.10/dist-packages (1.25.2)\n",
            "Requirement already satisfied: pandas in /usr/local/lib/python3.10/dist-packages (1.5.3)\n",
            "Requirement already satisfied: scipy in /usr/local/lib/python3.10/dist-packages (1.11.4)\n",
            "Requirement already satisfied: matplotlib in /usr/local/lib/python3.10/dist-packages (3.7.1)\n",
            "Requirement already satisfied: seaborn in /usr/local/lib/python3.10/dist-packages (0.13.1)\n",
            "Requirement already satisfied: scikit-learn>=0.18 in /usr/local/lib/python3.10/dist-packages (from astroML) (1.2.2)\n",
            "Requirement already satisfied: astropy>=3.0 in /usr/local/lib/python3.10/dist-packages (from astroML) (5.3.4)\n",
            "Requirement already satisfied: python-dateutil>=2.8.1 in /usr/local/lib/python3.10/dist-packages (from pandas) (2.8.2)\n",
            "Requirement already satisfied: pytz>=2020.1 in /usr/local/lib/python3.10/dist-packages (from pandas) (2023.4)\n",
            "Requirement already satisfied: contourpy>=1.0.1 in /usr/local/lib/python3.10/dist-packages (from matplotlib) (1.2.0)\n",
            "Requirement already satisfied: cycler>=0.10 in /usr/local/lib/python3.10/dist-packages (from matplotlib) (0.12.1)\n",
            "Requirement already satisfied: fonttools>=4.22.0 in /usr/local/lib/python3.10/dist-packages (from matplotlib) (4.49.0)\n",
            "Requirement already satisfied: kiwisolver>=1.0.1 in /usr/local/lib/python3.10/dist-packages (from matplotlib) (1.4.5)\n",
            "Requirement already satisfied: packaging>=20.0 in /usr/local/lib/python3.10/dist-packages (from matplotlib) (23.2)\n",
            "Requirement already satisfied: pillow>=6.2.0 in /usr/local/lib/python3.10/dist-packages (from matplotlib) (9.4.0)\n",
            "Requirement already satisfied: pyparsing>=2.3.1 in /usr/local/lib/python3.10/dist-packages (from matplotlib) (3.1.1)\n",
            "Requirement already satisfied: pyerfa>=2.0 in /usr/local/lib/python3.10/dist-packages (from astropy>=3.0->astroML) (2.0.1.1)\n",
            "Requirement already satisfied: PyYAML>=3.13 in /usr/local/lib/python3.10/dist-packages (from astropy>=3.0->astroML) (6.0.1)\n",
            "Requirement already satisfied: six>=1.5 in /usr/local/lib/python3.10/dist-packages (from python-dateutil>=2.8.1->pandas) (1.16.0)\n",
            "Requirement already satisfied: joblib>=1.1.1 in /usr/local/lib/python3.10/dist-packages (from scikit-learn>=0.18->astroML) (1.3.2)\n",
            "Requirement already satisfied: threadpoolctl>=2.0.0 in /usr/local/lib/python3.10/dist-packages (from scikit-learn>=0.18->astroML) (3.3.0)\n"
          ]
        }
      ],
      "source": [
        "!pip install astroML numpy pandas scipy matplotlib seaborn"
      ]
    },
    {
      "cell_type": "markdown",
      "source": [
        "# 1. Download the data corresponding to x, y, and σy from http://www.iith.ac.in/~shantanud/testdata.dat. Find the best-fit values after fitting the data to linear, quadratic, and cubic polynomials. Find out which model fits the data best from frequentist model comparison as well as using AIC and BIC. For frequentist model comparison, using the linear model as the null hypothesis, find out the p value corresponding to the preferred model. (or if the linear model is the prefered model, then compare it to the quadratic model). Also show a plot overlaying the data with best fit solutions from linear, quadratic and cubic functions with different line styles for each of the fits. [30 pts]"
      ],
      "metadata": {
        "id": "LeUrLNmEJUs-"
      }
    },
    {
      "cell_type": "code",
      "source": [
        "# Importing the necessary libraries\n",
        "import numpy as np\n",
        "import matplotlib.pyplot as plt\n",
        "from scipy.optimize import curve_fit\n",
        "from scipy.stats import chi2"
      ],
      "metadata": {
        "id": "3XRaFHmiLthh"
      },
      "execution_count": 2,
      "outputs": []
    },
    {
      "cell_type": "code",
      "source": [
        "# Downloading data from the given link\n",
        "data_url = \"http://www.iith.ac.in/~shantanud/testdata.dat\"\n",
        "data = np.loadtxt(data_url)\n",
        "data"
      ],
      "metadata": {
        "colab": {
          "base_uri": "https://localhost:8080/"
        },
        "id": "CvYpY2-ZL9HY",
        "outputId": "0d00b231-7ae0-4994-c64e-a4986cbffdc0"
      },
      "execution_count": 3,
      "outputs": [
        {
          "output_type": "execute_result",
          "data": {
            "text/plain": [
              "array([[ 4.17022005e-01,  1.21328306e-01,  1.00000000e-01],\n",
              "       [ 7.20324493e-01,  8.49527236e-01,  1.00000000e-01],\n",
              "       [ 1.14374817e-04, -1.01701406e+00,  1.00000000e-01],\n",
              "       [ 3.02332573e-01, -3.91715712e-01,  1.00000000e-01],\n",
              "       [ 1.46755891e-01, -6.80729552e-01,  1.00000000e-01],\n",
              "       [ 9.23385948e-02, -7.48514873e-01,  1.00000000e-01],\n",
              "       [ 1.86260211e-01, -7.02848629e-01,  1.00000000e-01],\n",
              "       [ 3.45560727e-01, -7.49939589e-02,  1.00000000e-01],\n",
              "       [ 3.96767474e-01,  4.11184491e-02,  1.00000000e-01],\n",
              "       [ 5.38816734e-01,  4.18206375e-01,  1.00000000e-01],\n",
              "       [ 4.19194514e-01,  1.04198665e-01,  1.00000000e-01],\n",
              "       [ 6.85219500e-01,  7.71591979e-01,  1.00000000e-01],\n",
              "       [ 2.04452250e-01, -5.61583801e-01,  1.00000000e-01],\n",
              "       [ 8.78117436e-01,  1.43374816e+00,  1.00000000e-01],\n",
              "       [ 2.73875932e-02, -9.71263541e-01,  1.00000000e-01],\n",
              "       [ 6.70467510e-01,  8.43497249e-01,  1.00000000e-01],\n",
              "       [ 4.17304802e-01, -6.04131724e-02,  1.00000000e-01],\n",
              "       [ 5.58689828e-01,  3.89838629e-01,  1.00000000e-01],\n",
              "       [ 1.40386939e-01, -7.68234900e-01,  1.00000000e-01],\n",
              "       [ 1.98101489e-01, -6.49073386e-01,  1.00000000e-01]])"
            ]
          },
          "metadata": {},
          "execution_count": 3
        }
      ]
    },
    {
      "cell_type": "code",
      "source": [
        "# Splitting the data to x, y, and σy\n",
        "x, y, sigma_y = data[:, 0], data[:, 1], data[:, 2]"
      ],
      "metadata": {
        "id": "hX3imwHJMszv"
      },
      "execution_count": 4,
      "outputs": []
    },
    {
      "cell_type": "code",
      "source": [
        "# Define Linear Model\n",
        "def linear_model(x, a, b):\n",
        "    return a * x + b\n",
        "\n",
        "# Fit Linear Model\n",
        "linear_params, linear_cov = curve_fit(linear_model, x, y, sigma=sigma_y)\n",
        "print(linear_params)\n",
        "print(\"\\n\")\n",
        "print(linear_cov)"
      ],
      "metadata": {
        "colab": {
          "base_uri": "https://localhost:8080/"
        },
        "id": "DJyMGO3pNDpM",
        "outputId": "d7053d0f-eb74-4f61-ad63-5eb3675a49e9"
      },
      "execution_count": 5,
      "outputs": [
        {
          "output_type": "stream",
          "name": "stdout",
          "text": [
            "[ 2.79789861 -1.11028082]\n",
            "\n",
            "\n",
            "[[ 0.00536154 -0.00196919]\n",
            " [-0.00196919  0.00103739]]\n"
          ]
        }
      ]
    },
    {
      "cell_type": "code",
      "source": [
        "# Define Quadratic Model\n",
        "def quadratic_model(x, a, b, c):\n",
        "    return a * x**2 + b * x + c\n",
        "\n",
        "# Fit Quadratic Model\n",
        "quadratic_params, quadratic_cov = curve_fit(quadratic_model, x, y, sigma=sigma_y)\n",
        "print(quadratic_params)\n",
        "print(\"\\n\")\n",
        "print(quadratic_cov)"
      ],
      "metadata": {
        "colab": {
          "base_uri": "https://localhost:8080/"
        },
        "id": "DYzyHCc7NbPR",
        "outputId": "63a017fe-d40f-40a4-c197-43b16655a58e"
      },
      "execution_count": 6,
      "outputs": [
        {
          "output_type": "stream",
          "name": "stdout",
          "text": [
            "[ 0.50261293  2.38475187 -1.05578915]\n",
            "\n",
            "\n",
            "[[ 0.07782716 -0.06397375  0.00843777]\n",
            " [-0.06397375  0.05735306 -0.00868657]\n",
            " [ 0.00843777 -0.00868657  0.00183711]]\n"
          ]
        }
      ]
    },
    {
      "cell_type": "code",
      "source": [
        "# Define Cubic Model\n",
        "def cubic_model(x, a, b, c, d):\n",
        "    return a * x**3 + b * x**2 + c * x + d\n",
        "\n",
        "# Fit Cubic Model\n",
        "cubic_params, cubic_cov = curve_fit(cubic_model, x, y, sigma=sigma_y)\n",
        "print(cubic_params)\n",
        "print(\"\\n\")\n",
        "print(cubic_cov)"
      ],
      "metadata": {
        "colab": {
          "base_uri": "https://localhost:8080/"
        },
        "id": "SbmlPeppNqpo",
        "outputId": "1c623261-23ca-43de-e9a7-bac3b17688a0"
      },
      "execution_count": 7,
      "outputs": [
        {
          "output_type": "stream",
          "name": "stdout",
          "text": [
            "[-0.96724992  1.74451332  1.97184055 -1.02910462]\n",
            "\n",
            "\n",
            "[[ 1.29254332 -1.65956072  0.55177644 -0.03565873]\n",
            " [-1.65956072  2.20990503 -0.77348346  0.05436113]\n",
            " [ 0.55177644 -0.77348346  0.29384916 -0.02405245]\n",
            " [-0.03565873  0.05436113 -0.02405245  0.0028512 ]]\n"
          ]
        }
      ]
    },
    {
      "cell_type": "code",
      "source": [
        "n = len(x)\n",
        "k_linear = 2\n",
        "k_quadratic = 3\n",
        "k_cubic = 4\n",
        "\n",
        "# Frequentist model comparison ( using the chi-square distribution )\n",
        "linear_chi2 = np.sum(((y - linear_model(x, *linear_params)) / sigma_y)**2)\n",
        "quadratic_chi2 = np.sum(((y - quadratic_model(x, *quadratic_params)) / sigma_y)**2)\n",
        "cubic_chi2 = np.sum(((y - cubic_model(x, *cubic_params)) / sigma_y)**2)\n",
        "\n",
        "# Calculate AIC\n",
        "AIC_linear = n * np.log(linear_chi2 / n) + 2 * k_linear\n",
        "AIC_quadratic = n * np.log(quadratic_chi2 / n) + 2 * k_quadratic\n",
        "AIC_cubic = n * np.log(cubic_chi2 / n) + 2 * k_cubic\n",
        "\n",
        "# Calculate BIC\n",
        "BIC_linear = n * np.log(linear_chi2 / n) + k_linear * np.log(n)\n",
        "BIC_quadratic = n * np.log(quadratic_chi2 / n) + k_quadratic * np.log(n)\n",
        "BIC_cubic = n * np.log(cubic_chi2 / n) + k_cubic * np.log(n)\n"
      ],
      "metadata": {
        "id": "RQQ8q-leK-_b"
      },
      "execution_count": 8,
      "outputs": []
    },
    {
      "cell_type": "code",
      "source": [
        "# Model comparison\n",
        "preferred_model = np.argmin([AIC_linear, AIC_quadratic, AIC_cubic])\n",
        "\n",
        "# Calculate p-value\n",
        "if preferred_model == 0:  # If linear model is preferred\n",
        "    p_value = 1 - chi2.cdf(linear_chi2, n - k_linear)\n",
        "elif preferred_model == 1:  # If quadratic model is preferred\n",
        "    p_value = 1 - chi2.cdf(quadratic_chi2, n - k_quadratic)\n",
        "else:  # If cubic model is preferred\n",
        "    p_value = 1 - chi2.cdf(cubic_chi2, n - k_cubic)\n"
      ],
      "metadata": {
        "id": "38g97GgqO0M2"
      },
      "execution_count": 9,
      "outputs": []
    },
    {
      "cell_type": "code",
      "source": [
        "# Plot the data for different models\n",
        "plt.errorbar(x, y, yerr=sigma_y, fmt='o', label='Data')\n",
        "\n",
        "x_smooth = np.linspace(min(x), max(x), 100)\n",
        "\n",
        "plt.plot(x_smooth, linear_model(x_smooth, *linear_params), label='Linear Fit', linestyle='--')\n",
        "plt.plot(x_smooth, quadratic_model(x_smooth, *quadratic_params), label='Quadratic Fit', linestyle='-.')\n",
        "plt.plot(x_smooth, cubic_model(x_smooth, *cubic_params), label='Cubic Fit', linestyle='-')\n",
        "\n",
        "plt.xlabel('x')\n",
        "plt.ylabel('y')\n",
        "plt.legend()\n",
        "plt.title('Data and Best-fit Solutions')\n",
        "plt.show()\n"
      ],
      "metadata": {
        "colab": {
          "base_uri": "https://localhost:8080/",
          "height": 472
        },
        "id": "ym9heVm8O6pA",
        "outputId": "c91955f5-5bda-424d-8430-d6b6e437394e"
      },
      "execution_count": 10,
      "outputs": [
        {
          "output_type": "display_data",
          "data": {
            "text/plain": [
              "<Figure size 640x480 with 1 Axes>"
            ],
            "image/png": "[encoded data removed]"
          },
          "metadata": {}
        }
      ]
    },
    {
      "cell_type": "code",
      "source": [
        "print(f\"Preferred Model (0: Linear, 1: Quadratic, 2: Cubic): {preferred_model}\")\n",
        "print(f\"\\nAIC Linear: {AIC_linear}, AIC Quadratic: {AIC_quadratic}, AIC Cubic: {AIC_cubic}\")\n",
        "print(f\"\\nBIC Linear: {BIC_linear}, BIC Quadratic: {BIC_quadratic}, BIC Cubic: {BIC_cubic}\")\n",
        "print(f\"\\nP-value of the preffered model: {p_value}\")"
      ],
      "metadata": {
        "colab": {
          "base_uri": "https://localhost:8080/"
        },
        "id": "7e0oOw3kPLcQ",
        "outputId": "4f8ab93c-8faf-4efa-d940-4c5163c2f827"
      },
      "execution_count": 11,
      "outputs": [
        {
          "output_type": "stream",
          "name": "stdout",
          "text": [
            "Preferred Model (0: Linear, 1: Quadratic, 2: Cubic): 1\n",
            "\n",
            "AIC Linear: -7.402357589910563, AIC Quadratic: -8.897144356361636, AIC Cubic: -7.782054848830587\n",
            "\n",
            "BIC Linear: -5.410893042802582, BIC Quadratic: -5.909947535699663, BIC Cubic: -3.7991257546146233\n",
            "\n",
            "P-value of the preffered model: 0.9234043003657486\n"
          ]
        }
      ]
    },
    {
      "cell_type": "markdown",
      "source": [
        "# 2. For the model comparison problem shown in class on JVDP’s blog, calculate AIC and BIC for the linear and quadratic models. Do these results agree with the frequentist model comparison results shown on the blog? Also mention the qualitative significance using strengt of evidence rules. [10 pts]"
      ],
      "metadata": {
        "id": "U0Vdx-P9Jk98"
      }
    },
    {
      "cell_type": "code",
      "source": [
        "import numpy as np\n",
        "from sklearn.metrics import mean_squared_error\n",
        "\n",
        "#get data from website\n",
        "data1 = np.array([[ 0.42,  0.72,  0.  ,  0.3 ,  0.15,\n",
        "                   0.09,  0.19,  0.35,  0.4 ,  0.54,\n",
        "                   0.42,  0.69,  0.2 ,  0.88,  0.03,\n",
        "                   0.67,  0.42,  0.56,  0.14,  0.2  ],\n",
        "                 [ 0.33,  0.41, -0.22,  0.01, -0.05,\n",
        "                  -0.05, -0.12,  0.26,  0.29,  0.39,\n",
        "                   0.31,  0.42, -0.01,  0.58, -0.2 ,\n",
        "                   0.52,  0.15,  0.32, -0.13, -0.09 ],\n",
        "                 [ 0.1 ,  0.1 ,  0.1 ,  0.1 ,  0.1 ,\n",
        "                   0.1 ,  0.1 ,  0.1 ,  0.1 ,  0.1 ,\n",
        "                   0.1 ,  0.1 ,  0.1 ,  0.1 ,  0.1 ,\n",
        "                   0.1 ,  0.1 ,  0.1 ,  0.1 ,  0.1  ]])\n",
        "\n",
        "x1, y1, sigma_y1 = data1"
      ],
      "metadata": {
        "id": "FaRw-kzwSMQQ"
      },
      "execution_count": 12,
      "outputs": []
    },
    {
      "cell_type": "code",
      "source": [
        "# Fit the data to different polynomial models\n",
        "def calculate_aic(y_true, y_pred, num_params):\n",
        "    mse = mean_squared_error(y_true, y_pred)\n",
        "    n = len(y_true)\n",
        "    aic = n * np.log(mse) + 2 * num_params\n",
        "    return aic\n",
        "\n",
        "def calculate_bic(y_true, y_pred, num_params):\n",
        "    mse = mean_squared_error(y_true, y_pred)\n",
        "    n = len(y_true)\n",
        "    bic = n * np.log(mse) + num_params * np.log(n)\n",
        "    return bic\n",
        "\n",
        "\n",
        "popt_linear, _ = curve_fit(linear_model, x1, y1)\n",
        "popt_quadratic, _ = curve_fit(quadratic_model, x1, y1)\n",
        "\n",
        "#calculate AIC and BIC for linear and quadratic model\n",
        "linear_aic = calculate_aic(y, linear_model(x1, *popt_linear), 2)\n",
        "quadratic_aic = calculate_aic(y, quadratic_model(x1, *popt_quadratic), 3)\n",
        "\n",
        "linear_bic = calculate_bic(y, linear_model(x1, *popt_linear), 2)\n",
        "quadratic_bic = calculate_bic(y, quadratic_model(x1, *popt_quadratic), 3)\n",
        "\n",
        "print(\"AIC values:\")\n",
        "print(\"Linear:\", linear_aic)\n",
        "print(\"Quadratic:\", quadratic_aic)\n",
        "\n",
        "print(\"BIC values:\")\n",
        "print(\"Linear:\", linear_bic)\n",
        "print(\"Quadratic:\", quadratic_bic)\n",
        "\n",
        "\n",
        "\n",
        "# Here, AIC and BIC both are lowest for LINEAR model. Thus, Linear model is the best fit of the\n",
        "# given data based on AIC and BIC score which also agrees with the frequentist model comparison\n",
        "# done in the JVDP’s blog"
      ],
      "metadata": {
        "colab": {
          "base_uri": "https://localhost:8080/"
        },
        "id": "FVHQnJjZSYYi",
        "outputId": "35c400f6-f10c-425d-cc41-6bfe04155a58"
      },
      "execution_count": 13,
      "outputs": [
        {
          "output_type": "stream",
          "name": "stdout",
          "text": [
            "AIC values:\n",
            "Linear: -23.17778629549587\n",
            "Quadratic: -20.95957763370085\n",
            "BIC values:\n",
            "Linear: -21.18632174838789\n",
            "Quadratic: -17.972380813038875\n"
          ]
        }
      ]
    },
    {
      "cell_type": "code",
      "source": [
        " #Strength of evidence\n",
        "print(\"change in AIC: \",abs(linear_aic-quadratic_aic))\n",
        "print(\"change in BIC: \",abs(linear_bic-quadratic_bic))\n",
        "\n",
        "# Change in AIC is between 0-3, so strength of evidence is Substantial.\n",
        "# Change in BIC is between 3-6, so strength of evidence is Positive.\n"
      ],
      "metadata": {
        "colab": {
          "base_uri": "https://localhost:8080/"
        },
        "id": "vJAR84Pif9Ur",
        "outputId": "3aab0526-cab3-455a-a1fd-9bc6d9826550"
      },
      "execution_count": 14,
      "outputs": [
        {
          "output_type": "stream",
          "name": "stdout",
          "text": [
            "change in AIC:  2.218208661795021\n",
            "change in BIC:  3.213940935349015\n"
          ]
        }
      ]
    },
    {
      "cell_type": "markdown",
      "source": [
        "# 3. Find out one paper in research literature which uses the Kolmogorov-Smirnov test and explain briefly how it was used in that paper. Is K-S test used incorrectly (in this paper) as per the warnings on the Penn State website discussed in class? [10 pts] (Hint : Use google scholar or enter “Kolmogorov-Smirnov” or “K-S” test in the abstract tab in the astro-ph or hep-ex section of arXiv. Also indicate the paper reference.)"
      ],
      "metadata": {
        "id": "p83_eqTuJxLe"
      }
    },
    {
      "cell_type": "code",
      "source": [
        "\"\"\"\n",
        "\n",
        "Title : The local environment of flat galaxies\n",
        "\n",
        "The paper discusses the local environment of flat galaxies and compares it with non-flat galaxies using statistical methods, including the Kolmogorov-Smirnov (KS) test1. Here are the key points:\n",
        "\n",
        "Flat vs Non-Flat Galaxies: The study finds that flat galaxies are located in sparser environments compared to non-flat galaxies, with a significant difference in their geometrical environments.\n",
        "\n",
        "Superthin Galaxies: A subset of flat galaxies, known as superthin galaxies, are also analyzed2. They are found to reside in under-dense environments compared to other flat galaxies3.\n",
        "\n",
        "Kolmogorov-Smirnov Test: The KS test is used to statistically confirm that the local environments of superthin and non-superthin galaxies are significantly different4. This test is crucial for validating the hypothesis that the local environment affects galaxy formation and evolution.\n",
        "\n",
        "Implications: The findings may have important implications for understanding the formation and evolution models of flat galaxies, including the role of the local environment in shaping their structure. The KS test’s importance lies in its ability to provide statistical evidence for the differences in local environments between different types of galaxies.\n",
        "\n",
        "\n",
        "\n",
        "\n",
        "Is K-S test used incorrectly (in this paper) as per the warnings on the Penn State website ?\n",
        "\n",
        "    No, The sampling is correctly used and complies with below points ( Though the paper does not uses AD test).\n",
        "\n",
        "    Sensitivity of KS Test: The KS test is often insensitive in detecting differences between distributions, especially when deviations occur frequently or near the ends of distributions. The AD test, being a weighted version of the Cramer-von Mises (CvM) test, overcomes these limitations and offers greater sensitivity.\n",
        "\n",
        "    Inappropriateness of KS Test Probabilities: KS test probabilities become inaccurate when the model is derived from the dataset itself. The test assumes independence between the curves, which is violated when the model is fit to the same dataset. In such cases, bootstrap resampling provides a more reliable estimation of significance levels.\n",
        "\n",
        "    Inapplicability in Multiple Dimensions: EDF-based tests, including KS and AD tests, cannot be directly applied in two or more dimensions due to the absence of a unique ordering of points. While some multidimensional statistics can be constructed, their critical values are not distribution-free, and bootstrap resampling is suggested for significance level estimation.\n",
        "\n",
        "    The recommendation is to replace the KS test with the more sensitive AD test, using tabulated critical values for comparisons with independent datasets or preselected models. Additionally, caution is advised when interpreting tabulated probabilities, and bootstrap resampling should be employed to confirm the distribution of the test statistic. This cautious approach also extends to constructing ad hoc statistics related to the KS test in multiple dimensions.\n",
        "\n",
        "\n",
        "Source : https://arxiv.org/pdf/2109.13526.pdf\n",
        "\n",
        "\"\"\""
      ],
      "metadata": {
        "colab": {
          "base_uri": "https://localhost:8080/",
          "height": 140
        },
        "id": "acpq4B-_zZeG",
        "outputId": "0193a119-547a-4dd9-a812-d95662ea6704"
      },
      "execution_count": 15,
      "outputs": [
        {
          "output_type": "execute_result",
          "data": {
            "text/plain": [
              "'\\n\\nTitle : The local environment of flat galaxies\\n\\nThe paper discusses the local environment of flat galaxies and compares it with non-flat galaxies using statistical methods, including the Kolmogorov-Smirnov (KS) test1. Here are the key points:\\n\\nFlat vs Non-Flat Galaxies: The study finds that flat galaxies are located in sparser environments compared to non-flat galaxies, with a significant difference in their geometrical environments.\\n\\nSuperthin Galaxies: A subset of flat galaxies, known as superthin galaxies, are also analyzed2. They are found to reside in under-dense environments compared to other flat galaxies3.\\n\\nKolmogorov-Smirnov Test: The KS test is used to statistically confirm that the local environments of superthin and non-superthin galaxies are significantly different4. This test is crucial for validating the hypothesis that the local environment affects galaxy formation and evolution.\\n\\nImplications: The findings may have important implications for understanding the formation and evolution models of flat galaxies, including the role of the local environment in shaping their structure. The KS test’s importance lies in its ability to provide statistical evidence for the differences in local environments between different types of galaxies.\\n\\n\\n\\n\\nIs K-S test used incorrectly (in this paper) as per the warnings on the Penn State website ?\\n\\n    No, The sampling is correctly used and complies with below points ( Though the paper does not uses AD test).\\n\\n    Sensitivity of KS Test: The KS test is often insensitive in detecting differences between distributions, especially when deviations occur frequently or near the ends of distributions. The AD test, being a weighted version of the Cramer-von Mises (CvM) test, overcomes these limitations and offers greater sensitivity.\\n\\n    Inappropriateness of KS Test Probabilities: KS test probabilities become inaccurate when the model is derived from the dataset itself. The test assumes independence between the curves, which is violated when the model is fit to the same dataset. In such cases, bootstrap resampling provides a more reliable estimation of significance levels.\\n\\n    Inapplicability in Multiple Dimensions: EDF-based tests, including KS and AD tests, cannot be directly applied in two or more dimensions due to the absence of a unique ordering of points. While some multidimensional statistics can be constructed, their critical values are not distribution-free, and bootstrap resampling is suggested for significance level estimation.\\n\\n    The recommendation is to replace the KS test with the more sensitive AD test, using tabulated critical values for comparisons with independent datasets or preselected models. Additionally, caution is advised when interpreting tabulated probabilities, and bootstrap resampling should be employed to confirm the distribution of the test statistic. This cautious approach also extends to constructing ad hoc statistics related to the KS test in multiple dimensions.\\n\\n\\nSource : https://arxiv.org/pdf/2109.13526.pdf\\n\\n'"
            ],
            "application/vnd.google.colaboratory.intrinsic+json": {
              "type": "string"
            }
          },
          "metadata": {},
          "execution_count": 15
        }
      ]
    },
    {
      "cell_type": "markdown",
      "source": [
        "# 4"
      ],
      "metadata": {
        "id": "hEYISqBwKBCL"
      }
    },
    {
      "cell_type": "markdown",
      "source": [
        "• Calculate the significance in terms of no of sigmas of the Higgs boson discovery claim from the p value given in the abstract of the ATLAS discovery paper, arXiv:1207.7214."
      ],
      "metadata": {
        "id": "CmJRtVOf3vnc"
      }
    },
    {
      "cell_type": "code",
      "source": [
        "from scipy.stats import norm\n",
        "\n",
        "p_higgs = 1.7e-9\n",
        "significance_higgs = norm.isf(p_higgs)  # Inverse survival function\n",
        "print(\"Significance of Higgs Boson Discovery:\", significance_higgs, \"sigmas\")\n",
        "\n",
        "# This value matches with the abstract's value of \"significance of ≈5.9 standard deviations \""
      ],
      "metadata": {
        "colab": {
          "base_uri": "https://localhost:8080/"
        },
        "id": "K_e3dgW91tJn",
        "outputId": "18cf0571-86e8-478a-9845-c8269413ea9c"
      },
      "execution_count": 16,
      "outputs": [
        {
          "output_type": "stream",
          "name": "stdout",
          "text": [
            "Significance of Higgs Boson Discovery: 5.911017938341624 sigmas\n"
          ]
        }
      ]
    },
    {
      "cell_type": "markdown",
      "source": [
        "• Do the same for the LIGO discovery of GW150914, for which the p\n",
        "value = 2 × 10−7 . (Hint : look up norm.isf)"
      ],
      "metadata": {
        "id": "m4ZcWbVG3ywJ"
      }
    },
    {
      "cell_type": "code",
      "source": [
        "from scipy.stats import norm\n",
        "\n",
        "p_ligo = 2e-7\n",
        "significance_ligo = norm.isf(p_ligo)  # Inverse survival function\n",
        "print(\"Significance of LIGO Discovery of GW150914:\", significance_ligo, \"sigmas\")\n",
        "\n",
        "# This value matches with the LIGO discovery of GW150914 value of \"significance of ≈5.1 standard deviations \""
      ],
      "metadata": {
        "colab": {
          "base_uri": "https://localhost:8080/"
        },
        "id": "5t2wc_Nr32vk",
        "outputId": "9b4d31ea-34b3-425d-ae10-8d706981925a"
      },
      "execution_count": 17,
      "outputs": [
        {
          "output_type": "stream",
          "name": "stdout",
          "text": [
            "Significance of LIGO Discovery of GW150914: 5.068957749717791 sigmas\n"
          ]
        }
      ]
    },
    {
      "cell_type": "markdown",
      "source": [
        "• From the Super-K discovery paper for neutrino oscillations (hep-\n",
        "ex/9807003), calculate the χ2 GOF using the best-fit νμ ↔ ντ os-\n",
        "cillation solution. (Hint : check page 4 of the paper, second column,last paragraph)"
      ],
      "metadata": {
        "id": "v6ZbqDOU33Kr"
      }
    },
    {
      "cell_type": "code",
      "source": [
        "# Assuming the chi-square value and degrees of freedom are provided in the Super-K Discovery paper\n",
        "chi_square = 65.2\n",
        "dof = 67\n",
        "\n",
        "# Calculate the chi-square goodness-of-fit\n",
        "chi_square_gof = chi_square / dof\n",
        "print(\"Chi-square Goodness-of-fit ( From the Super-K discovery paper ) for Neutrino Oscillations:\", chi_square_gof)\n"
      ],
      "metadata": {
        "colab": {
          "base_uri": "https://localhost:8080/"
        },
        "id": "fu99y6i9335V",
        "outputId": "cda8e5da-ebc6-46b3-b7c6-c627fca829e8"
      },
      "execution_count": 18,
      "outputs": [
        {
          "output_type": "stream",
          "name": "stdout",
          "text": [
            "Chi-square Goodness-of-fit ( From the Super-K discovery paper ) for Neutrino Oscillations: 0.973134328358209\n"
          ]
        }
      ]
    },
    {
      "cell_type": "code",
      "source": [
        "from scipy.stats import chi2\n",
        "\n",
        "# Given chi-square GOF value\n",
        "chi2_GOF = 65.2\n",
        "DOF = 67\n",
        "p_value = 1 - chi2.cdf(chi2_GOF, DOF)\n",
        "\n",
        "# Print the p-value\n",
        "print(\"Chi-square goodness of fit: \", p_value)"
      ],
      "metadata": {
        "colab": {
          "base_uri": "https://localhost:8080/"
        },
        "id": "NIxlGFaYRXd7",
        "outputId": "4b55125b-f68e-4f0d-b2dc-1fbbc4cb5d2d"
      },
      "execution_count": 19,
      "outputs": [
        {
          "output_type": "stream",
          "name": "stdout",
          "text": [
            "Chi-square goodness of fit:  0.5394901931099038\n"
          ]
        }
      ]
    }
  ]
}