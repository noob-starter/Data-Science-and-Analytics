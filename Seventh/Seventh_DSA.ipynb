{
  "nbformat": 4,
  "nbformat_minor": 0,
  "metadata": {
    "colab": {
      "provenance": []
    },
    "kernelspec": {
      "name": "python3",
      "display_name": "Python 3"
    },
    "language_info": {
      "name": "python"
    }
  },
  "cells": [
    {
      "cell_type": "markdown",
      "source": [
        "# Install the Necessary Libraries\n",
        "\n",
        "Name : Pratik Yuvraj Yawalkar\n",
        "\n",
        "Roll No.  : AI23MTECH11006\n",
        "\n",
        "Department : AI & ML"
      ],
      "metadata": {
        "id": "uALCXdkTB48g"
      }
    },
    {
      "cell_type": "code",
      "execution_count": null,
      "metadata": {
        "colab": {
          "base_uri": "https://localhost:8080/"
        },
        "id": "Orn88vb0B0d-",
        "outputId": "bcc61c66-af95-4d77-9c06-da631b4ccb55"
      },
      "outputs": [
        {
          "output_type": "stream",
          "name": "stdout",
          "text": [
            "Requirement already satisfied: astroml in /usr/local/lib/python3.10/dist-packages (1.0.2.post1)\n",
            "Requirement already satisfied: numpy in /usr/local/lib/python3.10/dist-packages (1.22.1)\n",
            "Requirement already satisfied: pandas in /usr/local/lib/python3.10/dist-packages (1.5.3)\n",
            "Requirement already satisfied: scipy in /usr/local/lib/python3.10/dist-packages (1.7.3)\n",
            "Requirement already satisfied: matplotlib in /usr/local/lib/python3.10/dist-packages (3.7.1)\n",
            "Requirement already satisfied: seaborn in /usr/local/lib/python3.10/dist-packages (0.13.1)\n",
            "Requirement already satisfied: corner in /usr/local/lib/python3.10/dist-packages (2.2.2)\n",
            "Requirement already satisfied: emcee in /usr/local/lib/python3.10/dist-packages (3.1.4)\n",
            "Requirement already satisfied: pymc3 in /usr/local/lib/python3.10/dist-packages (3.11.5)\n",
            "Requirement already satisfied: dynesty in /usr/local/lib/python3.10/dist-packages (2.1.3)\n",
            "Requirement already satisfied: scikit-learn>=0.18 in /usr/local/lib/python3.10/dist-packages (from astroml) (1.2.2)\n",
            "Requirement already satisfied: astropy>=3.0 in /usr/local/lib/python3.10/dist-packages (from astroml) (5.3.4)\n",
            "Requirement already satisfied: python-dateutil>=2.8.1 in /usr/local/lib/python3.10/dist-packages (from pandas) (2.8.2)\n",
            "Requirement already satisfied: pytz>=2020.1 in /usr/local/lib/python3.10/dist-packages (from pandas) (2023.4)\n",
            "Requirement already satisfied: contourpy>=1.0.1 in /usr/local/lib/python3.10/dist-packages (from matplotlib) (1.2.0)\n",
            "Requirement already satisfied: cycler>=0.10 in /usr/local/lib/python3.10/dist-packages (from matplotlib) (0.12.1)\n",
            "Requirement already satisfied: fonttools>=4.22.0 in /usr/local/lib/python3.10/dist-packages (from matplotlib) (4.49.0)\n",
            "Requirement already satisfied: kiwisolver>=1.0.1 in /usr/local/lib/python3.10/dist-packages (from matplotlib) (1.4.5)\n",
            "Requirement already satisfied: packaging>=20.0 in /usr/local/lib/python3.10/dist-packages (from matplotlib) (24.0)\n",
            "Requirement already satisfied: pillow>=6.2.0 in /usr/local/lib/python3.10/dist-packages (from matplotlib) (9.4.0)\n",
            "Requirement already satisfied: pyparsing>=2.3.1 in /usr/local/lib/python3.10/dist-packages (from matplotlib) (3.1.2)\n",
            "Requirement already satisfied: arviz>=0.11.0 in /usr/local/lib/python3.10/dist-packages (from pymc3) (0.12.1)\n",
            "Requirement already satisfied: cachetools>=4.2.1 in /usr/local/lib/python3.10/dist-packages (from pymc3) (5.3.3)\n",
            "Requirement already satisfied: deprecat in /usr/local/lib/python3.10/dist-packages (from pymc3) (2.1.1)\n",
            "Requirement already satisfied: dill in /usr/local/lib/python3.10/dist-packages (from pymc3) (0.3.8)\n",
            "Requirement already satisfied: fastprogress>=0.2.0 in /usr/local/lib/python3.10/dist-packages (from pymc3) (1.0.3)\n",
            "Requirement already satisfied: patsy>=0.5.1 in /usr/local/lib/python3.10/dist-packages (from pymc3) (0.5.6)\n",
            "Requirement already satisfied: semver>=2.13.0 in /usr/local/lib/python3.10/dist-packages (from pymc3) (3.0.2)\n",
            "Requirement already satisfied: theano-pymc==1.1.2 in /usr/local/lib/python3.10/dist-packages (from pymc3) (1.1.2)\n",
            "Requirement already satisfied: typing-extensions>=3.7.4 in /usr/local/lib/python3.10/dist-packages (from pymc3) (4.10.0)\n",
            "Requirement already satisfied: filelock in /usr/local/lib/python3.10/dist-packages (from theano-pymc==1.1.2->pymc3) (3.13.1)\n",
            "Requirement already satisfied: setuptools>=38.4 in /usr/local/lib/python3.10/dist-packages (from arviz>=0.11.0->pymc3) (67.7.2)\n",
            "Requirement already satisfied: xarray>=0.16.1 in /usr/local/lib/python3.10/dist-packages (from arviz>=0.11.0->pymc3) (2023.7.0)\n",
            "Requirement already satisfied: netcdf4 in /usr/local/lib/python3.10/dist-packages (from arviz>=0.11.0->pymc3) (1.6.5)\n",
            "Requirement already satisfied: xarray-einstats>=0.2 in /usr/local/lib/python3.10/dist-packages (from arviz>=0.11.0->pymc3) (0.6.0)\n",
            "Requirement already satisfied: pyerfa>=2.0 in /usr/local/lib/python3.10/dist-packages (from astropy>=3.0->astroml) (2.0.1.1)\n",
            "Requirement already satisfied: PyYAML>=3.13 in /usr/local/lib/python3.10/dist-packages (from astropy>=3.0->astroml) (6.0.1)\n",
            "Requirement already satisfied: six in /usr/local/lib/python3.10/dist-packages (from patsy>=0.5.1->pymc3) (1.16.0)\n",
            "Requirement already satisfied: joblib>=1.1.1 in /usr/local/lib/python3.10/dist-packages (from scikit-learn>=0.18->astroml) (1.3.2)\n",
            "Requirement already satisfied: threadpoolctl>=2.0.0 in /usr/local/lib/python3.10/dist-packages (from scikit-learn>=0.18->astroml) (3.3.0)\n",
            "Requirement already satisfied: wrapt<2,>=1.10 in /usr/local/lib/python3.10/dist-packages (from deprecat->pymc3) (1.14.1)\n",
            "Requirement already satisfied: cftime in /usr/local/lib/python3.10/dist-packages (from netcdf4->arviz>=0.11.0->pymc3) (1.6.3)\n",
            "Requirement already satisfied: certifi in /usr/local/lib/python3.10/dist-packages (from netcdf4->arviz>=0.11.0->pymc3) (2024.2.2)\n"
          ]
        }
      ],
      "source": [
        "!pip install astroml numpy pandas scipy matplotlib seaborn corner emcee pymc3 dynesty\n",
        "import warnings\n",
        "warnings.filterwarnings('ignore')"
      ]
    },
    {
      "cell_type": "markdown",
      "source": [
        "# 1. Download the SPT fgas data from http://iith.ac.in/~shantanud/fgas_spt.txt Fit the data to f0(1 + f1z) where f0 and f1 are unknown constants. Determine the best fit values of f0 and f1 including 68% and 90% credible intervals using emcee and corner.py . The priors on f0 and f1 should be 0 < f0 < 0.5 and −0.5 < f1 < 0.5. (30 pts)\n"
      ],
      "metadata": {
        "id": "DyN_O51hCHQM"
      }
    },
    {
      "cell_type": "code",
      "source": [
        "import numpy as np\n",
        "import emcee\n",
        "import corner\n",
        "\n",
        "# Load the data from the web directly and convert them to numpy array\n",
        "data = np.loadtxt(\"/content/fgas_spt.txt\")\n",
        "data.shape"
      ],
      "metadata": {
        "colab": {
          "base_uri": "https://localhost:8080/"
        },
        "id": "MLZUCOwDFNR1",
        "outputId": "c536306e-e953-42f4-e827-703d3d595ef1"
      },
      "execution_count": null,
      "outputs": [
        {
          "output_type": "execute_result",
          "data": {
            "text/plain": [
              "(94, 4)"
            ]
          },
          "metadata": {},
          "execution_count": 87
        }
      ]
    },
    {
      "cell_type": "code",
      "source": [
        "# Extract the required features\n",
        "z, fgas, err = data[:, 0], data[:, 1], data[:, 2]"
      ],
      "metadata": {
        "id": "wiWVaYBwFbpW"
      },
      "execution_count": null,
      "outputs": []
    },
    {
      "cell_type": "code",
      "source": [
        "# Define the model\n",
        "def model(params, z):\n",
        "    f0, f1 = params\n",
        "    return f0 * (1 + f1 * z)"
      ],
      "metadata": {
        "id": "Kxb-X8xvG4tV"
      },
      "execution_count": null,
      "outputs": []
    },
    {
      "cell_type": "code",
      "source": [
        "# Define the log-likelihood function\n",
        "def log_likelihood(params, z, fgas, err):\n",
        "    model_pred = model(params, z)\n",
        "    return -0.5 * np.sum(((fgas - model_pred) / err) ** 2)"
      ],
      "metadata": {
        "id": "gM0JHF1lG6Jr"
      },
      "execution_count": null,
      "outputs": []
    },
    {
      "cell_type": "code",
      "source": [
        "# Define the log-prior function\n",
        "def log_prior(params):\n",
        "    f0, f1 = params\n",
        "    if 0 < f0 < 0.5 and -0.5 < f1 < 0.5:\n",
        "        return 0.0\n",
        "    return -np.inf"
      ],
      "metadata": {
        "id": "zim9Xpq-G729"
      },
      "execution_count": null,
      "outputs": []
    },
    {
      "cell_type": "code",
      "source": [
        "# Define the log-posterior function\n",
        "def log_posterior(params, z, fgas, err):\n",
        "    lp = log_prior(params)\n",
        "    if not np.isfinite(lp):\n",
        "        return -np.inf\n",
        "    return lp + log_likelihood(params, z, fgas, err)"
      ],
      "metadata": {
        "id": "n02PurHOF2y4"
      },
      "execution_count": null,
      "outputs": []
    },
    {
      "cell_type": "code",
      "source": [
        "# Set up the sampler parameters for the Experiment\n",
        "nwalkers = 500\n",
        "ndim = 2\n",
        "pos = np.random.rand(nwalkers, ndim)\n",
        "sampler = emcee.EnsembleSampler(nwalkers, ndim, log_posterior, args=(z, fgas, err))"
      ],
      "metadata": {
        "id": "xbiYmoAPGDv-"
      },
      "execution_count": null,
      "outputs": []
    },
    {
      "cell_type": "code",
      "source": [
        "# Run the sampler\n",
        "sampler.run_mcmc(pos, nsteps=10000, progress=True)\n",
        "\n",
        "# Get the samples after the Experiment\n",
        "samples = sampler.get_chain(discard=1000, thin=10, flat=True)\n",
        "samples"
      ],
      "metadata": {
        "colab": {
          "base_uri": "https://localhost:8080/"
        },
        "id": "W_53Qq2rGJvF",
        "outputId": "a17befef-ee48-4e55-8a6b-36baaba35814"
      },
      "execution_count": null,
      "outputs": [
        {
          "output_type": "stream",
          "name": "stderr",
          "text": [
            "100%|██████████| 10000/10000 [02:18<00:00, 72.28it/s]\n"
          ]
        },
        {
          "output_type": "execute_result",
          "data": {
            "text/plain": [
              "array([[ 0.12219367, -0.10878939],\n",
              "       [ 0.12007515, -0.08610002],\n",
              "       [ 0.12578194, -0.16270823],\n",
              "       ...,\n",
              "       [ 0.93375079,  0.80817457],\n",
              "       [ 0.11612076, -0.11360238],\n",
              "       [ 0.11811404, -0.11886251]])"
            ]
          },
          "metadata": {},
          "execution_count": 94
        }
      ]
    },
    {
      "cell_type": "code",
      "source": [
        "# Calculate the median values and credible intervals for the 68% Interval\n",
        "f0_median, f1_median = np.median(samples, axis=0)\n",
        "f0_cred_int = np.percentile(samples[:, 0], [16, 84])\n",
        "f1_cred_int = np.percentile(samples[:, 1], [16, 84])\n",
        "\n",
        "print(\"Median values:\")\n",
        "print(f\"f0 = {f0_median:.3f} +/- f1 = {f1_median:.3f}\")\n",
        "print(\"\\n68% credible intervals:\")\n",
        "print(f\"f0: {f0_cred_int[0]:.3f} - {f0_cred_int[1]:.3f}\")\n",
        "print(f\"f1: {f1_cred_int[0]:.3f} - {f1_cred_int[1]:.3f}\")\n",
        "\n",
        "# Plot the corner plot\n",
        "fig = corner.corner(samples, labels=[\"f0\", \"f1\"], truths=[f0_median, f1_median], titles=\"68% Confidence Interval\")\n",
        "fig.show()\n"
      ],
      "metadata": {
        "colab": {
          "base_uri": "https://localhost:8080/",
          "height": 642
        },
        "id": "gKETpqmlDRB3",
        "outputId": "2f150661-1b77-46de-8605-c410b70bb7e3"
      },
      "execution_count": null,
      "outputs": [
        {
          "output_type": "stream",
          "name": "stdout",
          "text": [
            "Median values:\n",
            "f0 = 0.119 +/- f1 = -0.065\n",
            "\n",
            "68% credible intervals:\n",
            "f0: 0.114 - 0.126\n",
            "f1: -0.124 - 0.022\n",
            "Too few points to create valid contours\n"
          ]
        },
        {
          "output_type": "display_data",
          "data": {
            "text/plain": [
              "<Figure size 550x550 with 4 Axes>"
            ],
            "image/png": "[encoded data removed]"
          },
          "metadata": {}
        }
      ]
    },
    {
      "cell_type": "code",
      "source": [
        "# Calculate the median values and credible intervals for the 90% Interval\n",
        "f0_median, f1_median = np.median(samples, axis=0)\n",
        "f0_cred_int = np.percentile(samples[:, 0], [5, 95])\n",
        "f1_cred_int = np.percentile(samples[:, 1], [5, 95])\n",
        "\n",
        "print(\"Median values:\")\n",
        "print(f\"f0 = {f0_median:.3f} +/- f1 = {f1_median:.3f}\")\n",
        "print(\"\\n68% credible intervals:\")\n",
        "print(f\"f0: {f0_cred_int[0]:.3f} - {f0_cred_int[1]:.3f}\")\n",
        "print(f\"f1: {f1_cred_int[0]:.3f} - {f1_cred_int[1]:.3f}\")\n",
        "\n",
        "# Plot the corner plot\n",
        "fig = corner.corner(samples, labels=[\"f0\", \"f1\"], truths=[f0_median, f1_median], titles=\"90% Confidence Interval\")\n",
        "fig.show()\n"
      ],
      "metadata": {
        "colab": {
          "base_uri": "https://localhost:8080/",
          "height": 642
        },
        "id": "bAXYwhVqGvml",
        "outputId": "4f1ba436-4b01-49e3-edf3-4a52889ceff9"
      },
      "execution_count": null,
      "outputs": [
        {
          "output_type": "stream",
          "name": "stdout",
          "text": [
            "Median values:\n",
            "f0 = 0.119 +/- f1 = -0.065\n",
            "\n",
            "68% credible intervals:\n",
            "f0: 0.111 - 0.952\n",
            "f1: -0.159 - 0.588\n",
            "Too few points to create valid contours\n"
          ]
        },
        {
          "output_type": "display_data",
          "data": {
            "text/plain": [
              "<Figure size 550x550 with 4 Axes>"
            ],
            "image/png": "[encoded data removed]"
          },
          "metadata": {}
        }
      ]
    },
    {
      "cell_type": "markdown",
      "source": [
        "# 2. Calculate the Bayes factor for the linear and quadratic model for the example given on fifth blog article of the Pythonic Perambulations Series using dynesty or Nestle. Do the values agree with what’s on the blog (obtained by integrating the emcee samples).? (30 points)\n"
      ],
      "metadata": {
        "id": "_IWB6XeoCJXa"
      }
    },
    {
      "cell_type": "code",
      "source": [
        "import numpy as np\n",
        "import emcee\n",
        "from scipy.stats import norm\n",
        "import corner\n",
        "from dynesty import NestedSampler"
      ],
      "metadata": {
        "id": "_rlutob2MHlt"
      },
      "execution_count": null,
      "outputs": []
    },
    {
      "cell_type": "code",
      "source": [
        "ls = [[ 0.42, 0.72, 0. , 0.3 , 0.15, 0.09, 0.19, 0.35, 0.4 , 0.54, 0.42, 0.69, 0.2 , 0.88, 0.03, 0.67, 0.42, 0.56, 0.14, 0.2 ],\n",
        "      [ 0.33, 0.41, -0.22, 0.01, -0.05, -0.05, -0.12, 0.26, 0.29, 0.39, 0.31, 0.42, -0.01, 0.58, -0.2 , 0.52, 0.15, 0.32, -0.13, -0.09 ],\n",
        "      [ 0.1 , 0.1 , 0.1 , 0.1 , 0.1 , 0.1 , 0.1 , 0.1 , 0.1 , 0.1 , 0.1 , 0.1 , 0.1 , 0.1 , 0.1 , 0.1 , 0.1 , 0.1 , 0.1 , 0.1 ]\n",
        "     ]\n",
        "data = np.array(ls)\n",
        "data.size"
      ],
      "metadata": {
        "colab": {
          "base_uri": "https://localhost:8080/"
        },
        "id": "FXco2f0iNijD",
        "outputId": "1a49ad29-caf5-4ff9-94d7-dccf5f928b93"
      },
      "execution_count": null,
      "outputs": [
        {
          "output_type": "execute_result",
          "data": {
            "text/plain": [
              "60"
            ]
          },
          "metadata": {},
          "execution_count": 98
        }
      ]
    },
    {
      "cell_type": "code",
      "source": [
        "z = data[0]\n",
        "fgas = data[1]\n",
        "err = data[2]"
      ],
      "metadata": {
        "id": "bL-koDD3RBKz"
      },
      "execution_count": null,
      "outputs": []
    },
    {
      "cell_type": "code",
      "source": [
        "#defining the log-likelihood function for the linear model\n",
        "def loglike_lin(theta, z, fgas, err):\n",
        "    m, b = theta\n",
        "    model = m * z + b\n",
        "    sigma2 = err ** 2\n",
        "    return -0.5 * np.sum((fgas - model) ** 2 / sigma2 + np.log(sigma2))"
      ],
      "metadata": {
        "id": "g32GfgpMlKdI"
      },
      "execution_count": null,
      "outputs": []
    },
    {
      "cell_type": "code",
      "source": [
        "#defining the log-likelihood function for the quadratic model\n",
        "def loglike_quad(theta, z, fgas, err):\n",
        "    a, b, c = theta\n",
        "    model = a * z ** 2 + b * z + c\n",
        "    sigma2 = err ** 2\n",
        "    return -0.5 * np.sum((fgas - model) ** 2 / sigma2 + np.log(sigma2))"
      ],
      "metadata": {
        "id": "pKR0WdptlMGg"
      },
      "execution_count": null,
      "outputs": []
    },
    {
      "cell_type": "code",
      "source": [
        "#defining the log-prior for the linear model\n",
        "def logprior_lin(theta):\n",
        "    m, b = theta\n",
        "    if -10.0 < m < 10.0 and -10.0 < b < 10.0:\n",
        "        return 0.0\n",
        "    return -np.inf"
      ],
      "metadata": {
        "id": "pg8bpI9elN-e"
      },
      "execution_count": null,
      "outputs": []
    },
    {
      "cell_type": "code",
      "source": [
        "#defining the log-prior for the quadratic model\n",
        "def logprior_quad(theta):\n",
        "    a, b, c = theta\n",
        "    if -10.0 < a < 10.0 and -10.0 < b < 10.0 and -10.0 < c < 10.0:\n",
        "        return 0.0\n",
        "    return -np.inf"
      ],
      "metadata": {
        "id": "9ZSHaJ_MlPvW"
      },
      "execution_count": null,
      "outputs": []
    },
    {
      "cell_type": "code",
      "source": [
        "#defining the log-probability function for the linear model\n",
        "def logprob_lin(theta, z=z, fgas=fgas, err=err):\n",
        "    lp = logprior_lin(theta)\n",
        "    if not np.isfinite(lp):\n",
        "        return -np.inf\n",
        "    return lp + loglike_lin(theta, z, fgas, err)"
      ],
      "metadata": {
        "id": "CELq1VrZlRRn"
      },
      "execution_count": null,
      "outputs": []
    },
    {
      "cell_type": "code",
      "source": [
        "#defining the log-probability function for the quadratic model\n",
        "def logprob_quad(theta, z=z, fgas=fgas, err=err):\n",
        "    lp = logprior_quad(theta)\n",
        "    if not np.isfinite(lp):\n",
        "        return -np.inf\n",
        "    return lp + loglike_quad(theta, z, fgas, err)"
      ],
      "metadata": {
        "id": "2KT7W1wwlS3Y"
      },
      "execution_count": null,
      "outputs": []
    },
    {
      "cell_type": "code",
      "source": [
        "#defining the prior function for linear model\n",
        "def prior_transform_lin(utheta):\n",
        "    um, ub = utheta\n",
        "    m = norm.ppf(um, loc=0, scale=5)\n",
        "    b = norm.ppf(ub, loc=0, scale=5)\n",
        "    return np.array([m, b])"
      ],
      "metadata": {
        "id": "XfCr6_gSlUgk"
      },
      "execution_count": null,
      "outputs": []
    },
    {
      "cell_type": "code",
      "source": [
        "#defining the prior transform for the quadratic model\n",
        "def prior_transform_quad(utheta):\n",
        "    ua, ub, uc = utheta\n",
        "    a = norm.ppf(ua, loc=0, scale=5)\n",
        "    b = norm.ppf(ub, loc=0, scale=5)\n",
        "    c = norm.ppf(uc, loc=0, scale=5)\n",
        "    return np.array([a, b, c])"
      ],
      "metadata": {
        "id": "st8Fx8JuQ_C2"
      },
      "execution_count": null,
      "outputs": []
    },
    {
      "cell_type": "code",
      "source": [
        "# Defining the Parameters\n",
        "ndim_linear = 2\n",
        "ndim_quad = 3\n",
        "nlive = 100"
      ],
      "metadata": {
        "id": "D1VSzfrVk2vX"
      },
      "execution_count": null,
      "outputs": []
    },
    {
      "cell_type": "code",
      "source": [
        "# Train the nested sampler\n",
        "sampler_linear = NestedSampler(\n",
        "                logprob_lin, prior_transform_lin, ndim_linear, nlive\n",
        "                )\n",
        "\n",
        "sampler_linear.run_nested()\n",
        "log_evidence_linear = sampler_linear.results.logz[-1]"
      ],
      "metadata": {
        "colab": {
          "base_uri": "https://localhost:8080/"
        },
        "id": "9SHyAf6gk9Uv",
        "outputId": "aeb80b6f-408a-4586-b98b-7b90c2867fa2"
      },
      "execution_count": null,
      "outputs": [
        {
          "output_type": "stream",
          "name": "stderr",
          "text": [
            "1143it [00:02, 408.09it/s, +100 | bound: 11 | nc: 1 | ncall: 4951 | eff(%): 25.624 | loglstar:   -inf < 40.388 <    inf | logz: 31.285 +/-    nan | dlogz:  0.001 >  0.109]\n"
          ]
        }
      ]
    },
    {
      "cell_type": "code",
      "source": [
        "# Train the nested sampler\n",
        "sampler_quad = NestedSampler(\n",
        "               logprob_quad, prior_transform_quad, ndim_quad, nlive\n",
        "               )\n",
        "sampler_quad.run_nested()\n",
        "log_evidence_quad = sampler_quad.results.logz[-1]"
      ],
      "metadata": {
        "colab": {
          "base_uri": "https://localhost:8080/"
        },
        "id": "H6EyEpUrk-qB",
        "outputId": "f56ec1f8-8cac-4c22-ebd9-e1e4956f5ce6"
      },
      "execution_count": null,
      "outputs": [
        {
          "output_type": "stream",
          "name": "stderr",
          "text": [
            "1452it [00:07, 182.14it/s, +100 | bound: 18 | nc: 1 | ncall: 6727 | eff(%): 23.419 | loglstar:   -inf < 41.304 <    inf | logz: 29.094 +/-    nan | dlogz:  0.001 >  0.109]\n"
          ]
        }
      ]
    },
    {
      "cell_type": "code",
      "source": [
        "#calculating the bayes factor\n",
        "bayes_factor = np.exp(log_evidence_linear - log_evidence_quad)\n",
        "\n",
        "#printing the bayes value\n",
        "print(\"Bayes factor:\", bayes_factor)\n"
      ],
      "metadata": {
        "colab": {
          "base_uri": "https://localhost:8080/"
        },
        "id": "HsrQdHMVN6M4",
        "outputId": "1a249225-aea8-4919-85ae-9a3021882f9f"
      },
      "execution_count": null,
      "outputs": [
        {
          "output_type": "stream",
          "name": "stdout",
          "text": [
            "Bayes factor: 8.941492645866678\n"
          ]
        }
      ]
    },
    {
      "cell_type": "markdown",
      "source": [
        "**Conclusion**\n",
        "\n",
        "Yes, the value approximately matches with what's on the blog by integrating the emcee which is 2.36\n"
      ],
      "metadata": {
        "id": "i4A9Ckd5mPGn"
      }
    },
    {
      "cell_type": "markdown",
      "source": [
        "# 3. Download the SDSS quasar dataset from http://astrostatistics.psu.edu/datasets/SDSS_quasar.dat. Plot the KDE estimate of the quasar redshift distribution (the column with the title z) using a Gaussian and also an exponential kernel (with bandwidth=0.2) from -0.5 to 5.5. (20points)  (Hint: Look at the KDE help page in scikit-learn or use the corresponding functions in astroML module by looking at source code of astroML figures 6.3 and 6.4)"
      ],
      "metadata": {
        "id": "9vkfV0nbCLkw"
      }
    },
    {
      "cell_type": "code",
      "source": [
        "import numpy as np\n",
        "import matplotlib.pyplot as plt\n",
        "from sklearn.neighbors import KernelDensity\n",
        "import pandas as pd\n",
        "\n",
        "# Load the data from the web directly and convert them to numpy array\n",
        "req_data = pd.read_csv(\"/content/SDSS_quasar.txt\", sep=\" \")\n",
        "req_data.shape"
      ],
      "metadata": {
        "colab": {
          "base_uri": "https://localhost:8080/"
        },
        "id": "JAfHGgoAnEPf",
        "outputId": "a39f6b07-14cb-47a6-c4fd-c5ff63baf810"
      },
      "execution_count": null,
      "outputs": [
        {
          "output_type": "execute_result",
          "data": {
            "text/plain": [
              "(46420, 92)"
            ]
          },
          "metadata": {},
          "execution_count": 112
        }
      ]
    },
    {
      "cell_type": "code",
      "source": [
        "# Extract the required data\n",
        "data = req_data['z']\n",
        "data = data[~np.isnan(data)]  # Remove the nan values\n",
        "data = np.array(data)\n",
        "data"
      ],
      "metadata": {
        "colab": {
          "base_uri": "https://localhost:8080/"
        },
        "id": "n___dVXzpzPV",
        "outputId": "90fb770c-bd36-4fbd-b734-80b3ef574ebe"
      },
      "execution_count": null,
      "outputs": [
        {
          "output_type": "execute_result",
          "data": {
            "text/plain": [
              "array([ 0.047, 17.911,  0.061, ...,  0.028,  0.046,  0.036])"
            ]
          },
          "metadata": {},
          "execution_count": 113
        }
      ]
    },
    {
      "cell_type": "code",
      "source": [
        "# Define the range for the plot\n",
        "x_range_required = np.linspace(-0.5, 5.5, 1000)"
      ],
      "metadata": {
        "id": "6Tx3_rbdsXRd"
      },
      "execution_count": null,
      "outputs": []
    },
    {
      "cell_type": "code",
      "source": [
        "# KDE with Gaussian kernel\n",
        "kde_gaussian = KernelDensity(bandwidth=0.2, kernel='gaussian')\n",
        "kde_gaussian.fit(data.reshape(-1, 1))\n",
        "log_density_gaussian = kde_gaussian.score_samples(x_range_required[:, None])"
      ],
      "metadata": {
        "id": "xDlYxLXKsfqN"
      },
      "execution_count": null,
      "outputs": []
    },
    {
      "cell_type": "code",
      "source": [
        "# KDE with exponential kernel\n",
        "kde_exponential = KernelDensity(bandwidth=0.2, kernel='exponential')\n",
        "kde_exponential.fit(data.reshape(-1, 1))\n",
        "log_density_exponential = kde_exponential.score_samples(x_range_required[:, None])"
      ],
      "metadata": {
        "id": "GM2HI0F4shb3"
      },
      "execution_count": null,
      "outputs": []
    },
    {
      "cell_type": "code",
      "source": [
        "# Plotting all the plots\n",
        "plt.figure(figsize=(10, 6))\n",
        "plt.hist(data, bins='auto', color='blue', histtype='step', density=True, label='Data histogram')\n",
        "\n",
        "# Plot the Gaussian Kernel Density Estimate\n",
        "plt.plot(x_range_required, np.exp(log_density_gaussian), color='red', lw=2, label='Gaussian KDE')\n",
        "\n",
        "# Plot the Exponential Kernel Density Estimate\n",
        "plt.plot(x_range_required, np.exp(log_density_exponential), color='green', lw=2, label='Exponential KDE')\n",
        "\n",
        "plt.xlabel('Redshift (z) values')\n",
        "plt.ylabel('Probability Density generated')\n",
        "plt.title(\"KDE Estimate of Quasar Redshift Distribution ('z')\")\n",
        "plt.legend()\n",
        "plt.xlim(-0.5, 5.5)\n",
        "plt.grid(True)\n",
        "plt.show()"
      ],
      "metadata": {
        "colab": {
          "base_uri": "https://localhost:8080/",
          "height": 564
        },
        "id": "d3eg5KNxmvyt",
        "outputId": "423d8477-2fb6-448a-d75d-83966297bcc8"
      },
      "execution_count": null,
      "outputs": [
        {
          "output_type": "display_data",
          "data": {
            "text/plain": [
              "<Figure size 1000x600 with 1 Axes>"
            ],
            "image/png": "[encoded data removed]"
          },
          "metadata": {}
        }
      ]
    }
  ]
}