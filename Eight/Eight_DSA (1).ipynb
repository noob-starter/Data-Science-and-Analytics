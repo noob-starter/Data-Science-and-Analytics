{
  "nbformat": 4,
  "nbformat_minor": 0,
  "metadata": {
    "colab": {
      "provenance": []
    },
    "kernelspec": {
      "name": "python3",
      "display_name": "Python 3"
    },
    "language_info": {
      "name": "python"
    }
  },
  "cells": [
    {
      "cell_type": "markdown",
      "source": [
        "# Install the Necessary Libraries\n",
        "\n",
        "Name : Pratik Yuvraj Yawalkar\n",
        "\n",
        "Roll No.  : AI23MTECH11006\n",
        "\n",
        "Department : AI & ML"
      ],
      "metadata": {
        "id": "WqT2-dVFWoWq"
      }
    },
    {
      "cell_type": "code",
      "execution_count": 12,
      "metadata": {
        "id": "cLkdipnwWbw8",
        "colab": {
          "base_uri": "https://localhost:8080/"
        },
        "outputId": "56101057-6ffc-4992-e128-22e8378b95cf"
      },
      "outputs": [
        {
          "output_type": "stream",
          "name": "stdout",
          "text": [
            "Requirement already satisfied: astroml in /usr/local/lib/python3.10/dist-packages (1.0.2.post1)\n",
            "Requirement already satisfied: numpy in /usr/local/lib/python3.10/dist-packages (1.22.1)\n",
            "Requirement already satisfied: pandas in /usr/local/lib/python3.10/dist-packages (2.0.3)\n",
            "Requirement already satisfied: scipy in /usr/local/lib/python3.10/dist-packages (1.7.3)\n",
            "Requirement already satisfied: matplotlib in /usr/local/lib/python3.10/dist-packages (3.7.1)\n",
            "Requirement already satisfied: seaborn in /usr/local/lib/python3.10/dist-packages (0.13.1)\n",
            "Requirement already satisfied: corner in /usr/local/lib/python3.10/dist-packages (2.2.2)\n",
            "Requirement already satisfied: emcee in /usr/local/lib/python3.10/dist-packages (3.1.6)\n",
            "Requirement already satisfied: pymc3 in /usr/local/lib/python3.10/dist-packages (3.11.5)\n",
            "Requirement already satisfied: dynesty in /usr/local/lib/python3.10/dist-packages (2.1.3)\n",
            "Requirement already satisfied: scikit-learn>=0.18 in /usr/local/lib/python3.10/dist-packages (from astroml) (1.2.2)\n",
            "Requirement already satisfied: astropy>=3.0 in /usr/local/lib/python3.10/dist-packages (from astroml) (5.3.4)\n",
            "Requirement already satisfied: python-dateutil>=2.8.2 in /usr/local/lib/python3.10/dist-packages (from pandas) (2.8.2)\n",
            "Requirement already satisfied: pytz>=2020.1 in /usr/local/lib/python3.10/dist-packages (from pandas) (2023.4)\n",
            "Requirement already satisfied: tzdata>=2022.1 in /usr/local/lib/python3.10/dist-packages (from pandas) (2024.1)\n",
            "Requirement already satisfied: contourpy>=1.0.1 in /usr/local/lib/python3.10/dist-packages (from matplotlib) (1.2.1)\n",
            "Requirement already satisfied: cycler>=0.10 in /usr/local/lib/python3.10/dist-packages (from matplotlib) (0.12.1)\n",
            "Requirement already satisfied: fonttools>=4.22.0 in /usr/local/lib/python3.10/dist-packages (from matplotlib) (4.51.0)\n",
            "Requirement already satisfied: kiwisolver>=1.0.1 in /usr/local/lib/python3.10/dist-packages (from matplotlib) (1.4.5)\n",
            "Requirement already satisfied: packaging>=20.0 in /usr/local/lib/python3.10/dist-packages (from matplotlib) (24.0)\n",
            "Requirement already satisfied: pillow>=6.2.0 in /usr/local/lib/python3.10/dist-packages (from matplotlib) (9.4.0)\n",
            "Requirement already satisfied: pyparsing>=2.3.1 in /usr/local/lib/python3.10/dist-packages (from matplotlib) (3.1.2)\n",
            "Requirement already satisfied: arviz>=0.11.0 in /usr/local/lib/python3.10/dist-packages (from pymc3) (0.12.1)\n",
            "Requirement already satisfied: cachetools>=4.2.1 in /usr/local/lib/python3.10/dist-packages (from pymc3) (5.3.3)\n",
            "Requirement already satisfied: deprecat in /usr/local/lib/python3.10/dist-packages (from pymc3) (2.1.1)\n",
            "Requirement already satisfied: dill in /usr/local/lib/python3.10/dist-packages (from pymc3) (0.3.8)\n",
            "Requirement already satisfied: fastprogress>=0.2.0 in /usr/local/lib/python3.10/dist-packages (from pymc3) (1.0.3)\n",
            "Requirement already satisfied: patsy>=0.5.1 in /usr/local/lib/python3.10/dist-packages (from pymc3) (0.5.6)\n",
            "Requirement already satisfied: semver>=2.13.0 in /usr/local/lib/python3.10/dist-packages (from pymc3) (3.0.2)\n",
            "Requirement already satisfied: theano-pymc==1.1.2 in /usr/local/lib/python3.10/dist-packages (from pymc3) (1.1.2)\n",
            "Requirement already satisfied: typing-extensions>=3.7.4 in /usr/local/lib/python3.10/dist-packages (from pymc3) (4.11.0)\n",
            "Requirement already satisfied: filelock in /usr/local/lib/python3.10/dist-packages (from theano-pymc==1.1.2->pymc3) (3.13.4)\n",
            "Requirement already satisfied: setuptools>=38.4 in /usr/local/lib/python3.10/dist-packages (from arviz>=0.11.0->pymc3) (67.7.2)\n",
            "Requirement already satisfied: xarray>=0.16.1 in /usr/local/lib/python3.10/dist-packages (from arviz>=0.11.0->pymc3) (2023.7.0)\n",
            "Requirement already satisfied: netcdf4 in /usr/local/lib/python3.10/dist-packages (from arviz>=0.11.0->pymc3) (1.6.5)\n",
            "Requirement already satisfied: xarray-einstats>=0.2 in /usr/local/lib/python3.10/dist-packages (from arviz>=0.11.0->pymc3) (0.6.0)\n",
            "Requirement already satisfied: pyerfa>=2.0 in /usr/local/lib/python3.10/dist-packages (from astropy>=3.0->astroml) (2.0.1.4)\n",
            "Requirement already satisfied: PyYAML>=3.13 in /usr/local/lib/python3.10/dist-packages (from astropy>=3.0->astroml) (6.0.1)\n",
            "Requirement already satisfied: six in /usr/local/lib/python3.10/dist-packages (from patsy>=0.5.1->pymc3) (1.16.0)\n",
            "Requirement already satisfied: joblib>=1.1.1 in /usr/local/lib/python3.10/dist-packages (from scikit-learn>=0.18->astroml) (1.4.0)\n",
            "Requirement already satisfied: threadpoolctl>=2.0.0 in /usr/local/lib/python3.10/dist-packages (from scikit-learn>=0.18->astroml) (3.4.0)\n",
            "Requirement already satisfied: wrapt<2,>=1.10 in /usr/local/lib/python3.10/dist-packages (from deprecat->pymc3) (1.14.1)\n",
            "Requirement already satisfied: cftime in /usr/local/lib/python3.10/dist-packages (from netcdf4->arviz>=0.11.0->pymc3) (1.6.3)\n",
            "Requirement already satisfied: certifi in /usr/local/lib/python3.10/dist-packages (from netcdf4->arviz>=0.11.0->pymc3) (2024.2.2)\n"
          ]
        }
      ],
      "source": [
        "!pip install astroml numpy pandas scipy matplotlib seaborn corner emcee pymc3 dynesty\n",
        "import warnings\n",
        "warnings.filterwarnings('ignore')"
      ]
    },
    {
      "cell_type": "markdown",
      "source": [
        "# 1. Calculate the angular two-point correlation function of galaxies (including errors obtained by 10 bootstrap resamples) using subset of data from the Blanco Cosmology Survey with r-band magnitude between 17 and 20, and using 16 logarithmic-spaced angular bins from 1/60◦ to 1◦. Use a linear scale for Y-axis. Galaxies in Blanco Cosmology Survey have spread model > 0.002. This data can be downloaded from http://www.iith.ac.in/~shantanud/BCS05hr_reduced.txt (30 points) (Hint : Look at the astroML source code for Figure 6.17)"
      ],
      "metadata": {
        "id": "-oH4YvoLXd-r"
      }
    },
    {
      "cell_type": "code",
      "source": [
        "import numpy as np\n",
        "import matplotlib.pyplot as plt\n",
        "\n",
        "# Function to calculate the angular distance between two points on the sky\n",
        "def angular_distance(ra1, dec1, ra2, dec2):\n",
        "    delta_ra = ra2 - ra1\n",
        "    delta_dec = dec2 - dec1\n",
        "    return np.sqrt(delta_ra**2 + delta_dec**2)\n",
        "\n",
        "# Read data from the text file\n",
        "data = np.loadtxt('BCS05hr_reduced.txt')  # Replace 'your_data_file.txt' with the actual file name\n"
      ],
      "metadata": {
        "id": "SsN7Q-FsY96K"
      },
      "execution_count": 13,
      "outputs": []
    },
    {
      "cell_type": "code",
      "source": [
        "# Extract relevant columns from the data\n",
        "ra_data = data[:, 0]\n",
        "dec_data = data[:, 1]\n",
        "mag_data = data[:, 2]\n",
        "spread_model = data[:, 3]"
      ],
      "metadata": {
        "id": "bl1gDXb2dulP"
      },
      "execution_count": 14,
      "outputs": []
    },
    {
      "cell_type": "code",
      "source": [
        "# Define data subset: galaxies with r-band magnitude between 17 and 20 and spread model > 0.002\n",
        "selected_galaxies = (mag_data >= 17) & (mag_data <= 20) & (spread_model > 0.002)\n",
        "ra_selected = ra_data[selected_galaxies]\n",
        "dec_selected = dec_data[selected_galaxies]"
      ],
      "metadata": {
        "id": "ZKnrg-KJdr-_"
      },
      "execution_count": 15,
      "outputs": []
    },
    {
      "cell_type": "code",
      "source": [
        "# Define angular bins\n",
        "num_bins = 16\n",
        "angular_bins = np.logspace(np.log10(1/60), 0, num=num_bins)"
      ],
      "metadata": {
        "id": "WZeYOEGOdx0n"
      },
      "execution_count": 16,
      "outputs": []
    },
    {
      "cell_type": "code",
      "source": [
        "# Calculate pair counts in each angular bin\n",
        "pair_counts = np.zeros(num_bins - 1)\n",
        "for i in range(len(ra_selected)):\n",
        "    for j in range(i + 1, len(ra_selected)):\n",
        "        distance = angular_distance(ra_selected[i], dec_selected[i], ra_selected[j], dec_selected[j])\n",
        "        bin_index = np.searchsorted(angular_bins, distance, side='right')\n",
        "        if bin_index < num_bins:\n",
        "            pair_counts[bin_index - 1] += 1"
      ],
      "metadata": {
        "id": "4JHiy7E8d0W1"
      },
      "execution_count": 17,
      "outputs": []
    },
    {
      "cell_type": "code",
      "source": [
        "# Calculate expected pair counts for a random distribution\n",
        "area = 4 * np.pi * (180 / np.pi)**2  # Total area of the sky in square degrees\n",
        "mean_density = len(ra_selected) / area\n",
        "expected_counts = mean_density * (angular_bins[1:]**2 - angular_bins[:-1]**2)"
      ],
      "metadata": {
        "id": "ZOG7nRRBd8nv"
      },
      "execution_count": 18,
      "outputs": []
    },
    {
      "cell_type": "code",
      "source": [
        "# Calculate correlation function\n",
        "correlation_function = pair_counts / expected_counts - 1"
      ],
      "metadata": {
        "id": "fgD1gw8YeAEv"
      },
      "execution_count": 19,
      "outputs": []
    },
    {
      "cell_type": "code",
      "source": [
        "# Bootstrap resampling for error estimation\n",
        "num_resamples = 10\n",
        "bootstrap_correlation_functions = np.zeros((num_resamples, len(correlation_function)))\n",
        "for i in range(num_resamples):\n",
        "    resample_indices = np.random.choice(len(ra_selected), size=len(ra_selected), replace=True)\n",
        "    resample_pair_counts = np.zeros(num_bins - 1)\n",
        "    for j in range(len(resample_indices)):\n",
        "        for k in range(j + 1, len(resample_indices)):\n",
        "            distance = angular_distance(ra_selected[resample_indices[j]], dec_selected[resample_indices[j]],\n",
        "                                         ra_selected[resample_indices[k]], dec_selected[resample_indices[k]])\n",
        "            bin_index = np.searchsorted(angular_bins, distance, side='right')\n",
        "            if bin_index < num_bins:\n",
        "                resample_pair_counts[bin_index - 1] += 1\n",
        "    bootstrap_correlation_functions[i] = resample_pair_counts / expected_counts - 1"
      ],
      "metadata": {
        "id": "kkjMNLYGeCaj"
      },
      "execution_count": 9,
      "outputs": []
    },
    {
      "cell_type": "code",
      "source": [
        "# Calculate bootstrap errors\n",
        "bootstrap_errors = np.std(bootstrap_correlation_functions, axis=0)"
      ],
      "metadata": {
        "id": "noBqxSUBeF6c"
      },
      "execution_count": 10,
      "outputs": []
    },
    {
      "cell_type": "code",
      "source": [
        "# Plot correlation function with errors\n",
        "plt.errorbar(angular_bins[:-1], correlation_function, yerr=bootstrap_errors, fmt='xg')\n",
        "plt.xlabel('Angular Separation (degrees) on x-axis')\n",
        "plt.ylabel('Correlation Function on y-axis')\n",
        "plt.xscale('log')\n",
        "plt.yscale('linear')\n",
        "plt.title('Angular Two-Point Correlation Function Plot')\n",
        "plt.show()"
      ],
      "metadata": {
        "id": "9zJORTUrZvaD",
        "colab": {
          "base_uri": "https://localhost:8080/",
          "height": 476
        },
        "outputId": "a54ed412-d863-4b41-d4c0-1b6818242856"
      },
      "execution_count": 21,
      "outputs": [
        {
          "output_type": "display_data",
          "data": {
            "text/plain": [
              "<Figure size 640x480 with 1 Axes>"
            ],
            "image/png": "[encoded data removed]"
          },
          "metadata": {}
        }
      ]
    }
  ]
}